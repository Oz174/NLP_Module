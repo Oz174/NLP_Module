{
 "cells": [
  {
   "cell_type": "markdown",
   "id": "46a688ae-ce9b-45e3-bd17-d3803adfd54b",
   "metadata": {},
   "source": [
    "## Pipeline explanation "
   ]
  },
  {
   "cell_type": "markdown",
   "id": "5cb4ab5d-744b-4ff9-8424-7491bedf7c72",
   "metadata": {},
   "source": [
    "### (Input 1) example json file containing questions , model answers and keywords "
   ]
  },
  {
   "cell_type": "markdown",
   "id": "48125580-34a3-4757-b1af-e86dcf550ace",
   "metadata": {},
   "source": [
    "```\n",
    "{\n",
    "  \"Q1\": \"What is a data structure\",\n",
    "  \"Answer\": \"A data structure is for ... etc\",\n",
    "  \"keywords\": \"[organize,graph,tree,queue,...etc]\"\n",
    "}\n",
    "```"
   ]
  },
  {
   "cell_type": "markdown",
   "id": "74f65a9b-0eee-404e-8339-d94d6955e218",
   "metadata": {},
   "source": [
    "### (Input 2) The paths to audio files for candidate's answers"
   ]
  },
  {
   "cell_type": "markdown",
   "id": "37c8ff80-808f-4e4f-92ee-0123f1e45821",
   "metadata": {},
   "source": [
    "```\n",
    "{\n",
    "\"path/to/audio/file/Q1.wav\"\n",
    "\"path/to/audio/file/Q2.wav\"\n",
    "\"path/to/audio/file/Q3.wav\"\n",
    "...\n",
    "}\n",
    "```"
   ]
  },
  {
   "cell_type": "markdown",
   "id": "c6a0664f-3ef9-4822-8832-abc5b7bed029",
   "metadata": {},
   "source": [
    "### Step 1 : Assert \n",
    " 1. Assert that lengths are matching (I.E no missing answers or something dropped)\n",
    " 2. Assert that question numbers match\n"
   ]
  },
  {
   "cell_type": "markdown",
   "id": "4bb21569-9bbd-4a29-84b0-5357be05bdfb",
   "metadata": {},
   "source": [
    "### Step 2 : Pass the audio files over the audio recognition sound model and generate key-value pairs {Q1:student_answer} \n"
   ]
  },
  {
   "cell_type": "markdown",
   "id": "5a877efc-1f28-4c3b-80d7-df512ea487df",
   "metadata": {},
   "source": [
    "### Step 3 : Calculate the TF-IDF score for each question {Q1:score}\n"
   ]
  },
  {
   "cell_type": "markdown",
   "id": "31064f1f-1cdc-4fe5-87fd-366a1e37f3c2",
   "metadata": {},
   "source": [
    "### Step 4 ( To be postponed) : Generate the Feedback "
   ]
  },
  {
   "cell_type": "markdown",
   "id": "2b64ef96-3b9e-4d5f-97b1-b71cbfb9a02f",
   "metadata": {},
   "source": [
    "# Imports"
   ]
  },
  {
   "cell_type": "code",
   "execution_count": 1,
   "id": "9dcee9c5-e1b8-4571-babe-4b5abd2323c3",
   "metadata": {},
   "outputs": [],
   "source": [
    "from nltk.corpus import stopwords #=> stop words removal \n",
    "from collections import Counter\n",
    "#from nltk import pos_tag #=> for defining part of speech \n",
    "from nltk.stem.porter import PorterStemmer #=> stemming word into its root\n",
    "from nltk.stem.wordnet import WordNetLemmatizer #=> Lemmatizing variants of word to its original form\n",
    "#from nltk.tokenize import word_tokenize , sent_tokenize #=> for tokenizing sentence\n",
    "import numpy as np\n",
    "import math\n",
    "import matplotlib.pyplot as plt\n",
    "plt.style.use('ggplot')\n",
    "Extra_Stop_Words = {\"the\",\",\",\"a\", \"an\", \"and\", \"or\", \"in\", \"on\", \"to\", \"is\", \"are\", \"was\", \"were\", \"am\", \"i\", \"you\", \"he\", \"she\", \"it\", \"we\", \"they\", \"for\", \"of\", \"that\", \"this\", \"with\", \"as\", \"at\", \"by\", \"from\", \"up\", \"down\", \"out\", \"about\", \"over\", \"under\", \"again\", \"further\", \"then\", \"once\", \"here\", \"there\", \"when\", \"where\", \"why\", \"how\", \"all\", \"any\", \"both\", \"each\", \"few\", \"more\", \"most\", \"other\", \"some\", \"such\", \"no\", \"nor\", \"not\", \"only\", \"own\", \"same\", \"so\", \"than\", \"too\", \"very\", \"s\", \"t\", \"can\", \"will\", \"just\", \"don\", \"should\", \"now\"}\n",
    "STOP_WORDS = set(stopwords.words(\"english\"))\n",
    "STOP_WORDS = STOP_WORDS.union(Extra_Stop_Words)\n",
    "import json\n",
    "import speech_recognition as sr\n",
    "import os"
   ]
  },
  {
   "cell_type": "markdown",
   "id": "68c79994",
   "metadata": {},
   "source": [
    "## Class for audio recognition"
   ]
  },
  {
   "cell_type": "code",
   "execution_count": 2,
   "id": "b0d5c97d",
   "metadata": {},
   "outputs": [],
   "source": [
    "class SoundRecorder:\n",
    "    @staticmethod\n",
    "    def get_answers(path_to_answers):\n",
    "        answers = {}\n",
    "        r = sr.Recognizer()\n",
    "        answers_files = [os.path.join(path_to_answers,f) for f in os.listdir(path_to_answers) if f.endswith('.wav')]\n",
    "        for audio in answers_files:\n",
    "            sentence = \"\"\n",
    "            #Use  the  reсоgnize_google()  funсtiоn  tо  reсоgnize  the  аudiо\n",
    "            with sr.AudioFile(audio) as source:  \n",
    "                audio_ans = r.record(source)\n",
    "            try:\n",
    "                sentence = r.recognize_google(audio_ans)\n",
    "                # In order to take the question number only from the file name (1-9 questions)\n",
    "                answers[audio[-6:-4]] = sentence\n",
    "            except Exception as  e:\n",
    "                print('Error:  ' + str(e))\n",
    "        return answers"
   ]
  },
  {
   "cell_type": "markdown",
   "id": "cbd769bd",
   "metadata": {},
   "source": [
    "## Class AnswerEvaluator"
   ]
  },
  {
   "cell_type": "code",
   "execution_count": 3,
   "id": "e261eade-5a9b-4769-865d-d1e30d081407",
   "metadata": {},
   "outputs": [],
   "source": [
    "class AnswerEvaluator:\n",
    "    def __init__(self, model_answer, keywords,extra_stop_words=None,):\n",
    "        self.model_answer = model_answer\n",
    "        self.keywords = keywords\n",
    "        self.STOP_WORDS = set(stopwords.words(\"english\"))\n",
    "        if extra_stop_words:\n",
    "            self.STOP_WORDS = self.STOP_WORDS.union(set(extra_stop_words))\n",
    "    \n",
    "    def calculate_tf(self, document):\n",
    "        tf = {}\n",
    "        word_count = Counter(document)\n",
    "        total_words = len(document)\n",
    "        for word, count in word_count.items():\n",
    "            tf[word] = count / total_words\n",
    "        return tf\n",
    "\n",
    "    def calculate_idf(self, documents):\n",
    "        k=0.3\n",
    "        total_documents = len(documents)\n",
    "        all_words = set(word for document in documents for word in document)\n",
    "        idf = {word: math.log((total_documents + k) / (1 + sum(1 for doc in documents if word in doc))) for word in all_words}\n",
    "        return idf\n",
    "\n",
    "    def calculate_tfidf(self, tf, idf):\n",
    "        tfidf = {word: tf[word] * idf[word] for word in tf}\n",
    "        return tfidf\n",
    "\n",
    "    def cosine_similarity(self, vector1, vector2):\n",
    "        dot_product = sum(vector1.get(word, 0) * vector2.get(word, 0) for word in set(vector1) & set(vector2))\n",
    "\n",
    "        magnitude1 = math.sqrt(sum(value ** 2 for value in vector1.values()))\n",
    "        magnitude2 = math.sqrt(sum(value ** 2 for value in vector2.values()))\n",
    "\n",
    "        if magnitude1 != 0 and magnitude2 != 0:\n",
    "            return dot_product / (magnitude1 * magnitude2)\n",
    "        else:\n",
    "            return 0\n",
    "\n",
    "    def keyword_matching_score(self, student_answer, keywords):\n",
    "        student_answer_lower = student_answer.lower()\n",
    "        keywords_lower = [keyword.lower() for keyword in keywords]\n",
    "        score = 0\n",
    "        for keyword in keywords_lower:\n",
    "            if keyword in student_answer_lower:\n",
    "                score += 1\n",
    "        if keywords_lower:\n",
    "            score /= len(keywords_lower)\n",
    "        return score\n",
    "\n",
    "    def evaluate(self, student_answer, keywords):\n",
    "        tokens1 = [word for word in self.model_answer.lower().split() if word not in self.STOP_WORDS]\n",
    "        tokens2 = [word for word in student_answer.lower().split() if word not in self.STOP_WORDS]\n",
    "\n",
    "        # lemmatize , then stem \n",
    "        #tokens1 = [PorterStemmer().stem(WordNetLemmatizer().lemmatize(word)) for word in tokens1]\n",
    "        #tokens2 = [PorterStemmer().stem(WordNetLemmatizer().lemmatize(word)) for word in tokens2]\n",
    "\n",
    "        documents = [tokens1, tokens2]\n",
    "        tf1 = self.calculate_tf(tokens1)\n",
    "        tf2 = self.calculate_tf(tokens2)\n",
    "        idf = self.calculate_idf(documents)\n",
    "        tfidf1 = self.calculate_tfidf(tf1, idf)\n",
    "        tfidf2 = self.calculate_tfidf(tf2, idf)\n",
    "        similarity_score = self.cosine_similarity(tfidf1, tfidf2)\n",
    "        keywords_score = self.keyword_matching_score(student_answer, keywords)\n",
    "        try :\n",
    "            final_score = (similarity_score/keywords_score) * (similarity_score + keywords_score)/2\n",
    "        except ZeroDivisionError:\n",
    "            final_score = 0\n",
    "        return 1 if final_score > 1 else final_score"
   ]
  },
  {
   "cell_type": "markdown",
   "id": "6cbb217a",
   "metadata": {},
   "source": [
    "## Class FeedbackGenerator"
   ]
  },
  {
   "cell_type": "code",
   "execution_count": 8,
   "id": "b5bced4c",
   "metadata": {},
   "outputs": [],
   "source": [
    "class FeedbackGenerator:\n",
    "    @staticmethod\n",
    "    def generate_feedback_message(scores):\n",
    "        path_to_feedback_folder = \"feedback samples/\"\n",
    "        feedback_message = \"Thanks for completing the interview. Here's your feedback:\\n\"\n",
    "        mappings = []\n",
    "        areas = list(scores.keys())\n",
    "        for _ , item in scores.items():\n",
    "            if item < 0.5:\n",
    "                mappings.append(\"low\")\n",
    "            elif item < 0.75:\n",
    "                mappings.append(\"medium\")\n",
    "            else:\n",
    "                mappings.append(\"high\")\n",
    "        \n",
    "        for area , category in zip(areas,mappings):\n",
    "            # shall be removed on higher integration\n",
    "            try:\n",
    "                path = path_to_feedback_folder + area + \"/\" + category + \".txt\"\n",
    "                with open(path, \"r\") as file:\n",
    "                    messages = file.readlines()\n",
    "                    # random choice of one message from the file\n",
    "                    feedback_message += messages[np.random.randint(0,len(messages))] + \"\\n\"\n",
    "            except FileNotFoundError:\n",
    "                raise FileNotFoundError(\"Feedback file not found\")\n",
    "\n",
    "        print(feedback_message)\n",
    "        return\n",
    "    \n",
    "    @staticmethod\n",
    "    def spider_graph_generator(scores):\n",
    "    #split the dict into 2 lists\n",
    "        scores_dict = scores\n",
    "        scores = list(scores_dict.values())\n",
    "        \n",
    "        if max(scores) < 1:\n",
    "            scores = [round(score,0)*100 for score in scores]\n",
    "    \n",
    "        scores_dict = list(scores_dict.keys())\n",
    "\n",
    "\n",
    "        scores_dict_angles = np.linspace(0,2*np.pi,len(scores) , endpoint = False)\n",
    "        scores_dict_angles = np.concatenate((scores_dict_angles, [scores_dict_angles[0]]))\n",
    "        scores.append(scores[0])\n",
    "        scores_dict.append(scores_dict[0])\n",
    "        \n",
    "        fig=plt.figure(figsize=(4,4))\n",
    "        ax=fig.add_subplot(polar=True)\n",
    "        #basic plot\n",
    "        ax.plot(scores_dict_angles,scores, 'o--', color='g', linewidth=2, label='Scores')\n",
    "        #fill plot\n",
    "        ax.fill(scores_dict_angles, scores, alpha=0.25, color='g')\n",
    "        #Add labels\n",
    "        ax.set_thetagrids(scores_dict_angles * 180/np.pi, scores_dict)\n",
    "        plt.grid(True)\n",
    "        plt.tight_layout()\n",
    "        plt.legend()\n",
    "        plt.show()"
   ]
  },
  {
   "cell_type": "markdown",
   "id": "369432bc",
   "metadata": {},
   "source": [
    "## Class NLP_Module"
   ]
  },
  {
   "cell_type": "code",
   "execution_count": 5,
   "id": "b3c9ffa5",
   "metadata": {},
   "outputs": [],
   "source": [
    "class NLP_MODULE:\n",
    "    def __init__(self,path_to_interviewee_answers:str,model_answers_json:str):\n",
    "        self.path_to_interviewee_answers = path_to_interviewee_answers\n",
    "        self.model_answers_json = model_answers_json\n",
    "        self.questions_w_model_answers = {}\n",
    "        self.interviewee_answers = {}\n",
    "        self.results = {}\n",
    "\n",
    "    def prepare_data(self):\n",
    "        # Takes too long , need to be optimized by threading\n",
    "        if self.model_answers_json is None or not self.model_answers_json.endswith(\"json\"):\n",
    "            raise TypeError(\"The file name is not in correct name or format , Make sure it's a json file\")\n",
    "        \n",
    "        with open(self.model_answers_json, \"r\") as file:\n",
    "            questions_w_model_answers = json.load(file)\n",
    "\n",
    "        interviewee_answers = [f for f in os.listdir(self.path_to_interviewee_answers)]\n",
    "        # Assert 1 \n",
    "        assert len(questions_w_model_answers) == len(interviewee_answers),\"Length Mismatch between audio files and answers provided\"\n",
    "        # Assert 2\n",
    "        ans_no = lambda x : x[:-4]\n",
    "        assert list(questions_w_model_answers.keys()) == list(map(ans_no,interviewee_answers)) , \"Keys Mismatch among questions' numbers\"\n",
    "        del ans_no \n",
    "        self.interviewee_answers = SoundRecorder.get_answers(self.path_to_interviewee_answers)\n",
    "        self.questions_w_model_answers = dict(sorted(questions_w_model_answers.items()))\n",
    "        return self.questions_w_model_answers,self.interviewee_answers\n",
    "\n",
    "    def generate_results(self):\n",
    "        results = {}\n",
    "        for ques_no, answer in self.questions_w_model_answers.items():\n",
    "            model_answer = answer['model_answer']\n",
    "            keywords = answer['hint_keywords']\n",
    "            # print(f\"Model Answer : {answer['model_answer']} \\n Keywords: {answer['hint_keywords']}\")\n",
    "            a_evaluator = AnswerEvaluator(model_answer, keywords)\n",
    "            for q_no, ans in self.interviewee_answers.items():\n",
    "                if q_no == ques_no:\n",
    "                    results[q_no] = a_evaluator.evaluate(ans, keywords)\n",
    "        print(\"Scores for each question ...  \")\n",
    "        print(results)\n",
    "        self.results[\"technical\"] = np.mean(list(results.values()))\n",
    "        self.results[\"personal\"] = np.random.random()\n",
    "        self.results[\"social\"] = np.random.random()\n",
    "        print(self.results)\n",
    "        FeedbackGenerator.generate_feedback_message(self.results)\n",
    "        FeedbackGenerator.spider_graph_generator(self.results)\n",
    "    \n",
    "    def export_results_to_json(self):\n",
    "        with open(\"results.json\", \"w\") as file:\n",
    "            json.dump(self.results,file,indent=4)"
   ]
  },
  {
   "cell_type": "markdown",
   "id": "9a960a94",
   "metadata": {},
   "source": [
    "# Trials Solo"
   ]
  },
  {
   "cell_type": "code",
   "execution_count": 6,
   "id": "195a2ec9",
   "metadata": {},
   "outputs": [],
   "source": [
    "# # read questions.json \n",
    "# with open(\"questions.json\", \"r\") as file:\n",
    "#     questions = json.load(file)\n",
    "\n",
    "# interviewees_answers = [f for f in os.listdir(\"audio samples/interviewee_answer\")]\n",
    "\n",
    "# # Assert 1 \n",
    "# assert len(questions) == len(interviewees_answers)\n",
    "# # Assert 2\n",
    "# ans_no = lambda x : x[:-4]\n",
    "# assert list(questions.keys()) == list(map(ans_no,interviewees_answers))\n",
    "\n",
    "# questions = dict(sorted(questions.items()))\n",
    "# questions\n",
    "# s_recorder = SoundRecorder(\"audio samples/interviewee_answer\")\n",
    "# answers = s_recorder.get_answers()\n",
    "# answers\n",
    "# results = {}\n",
    "# for ques_no, answer in questions.items():\n",
    "#     model_answer = answer['model_answer']\n",
    "#     keywords = answer['hint_keywords']\n",
    "#     # print(f\"Model Answer : {answer['model_answer']} \\n Keywords: {answer['hint_keywords']}\")\n",
    "#     a_evaluator = AnswerEvaluator(model_answer, keywords)\n",
    "#     for q_no, ans in answers.items():\n",
    "#         #print(model_answer,ans)\n",
    "#         if q_no == ques_no:\n",
    "#             # print(q_no,ques_no)\n",
    "#             results[q_no] = a_evaluator.evaluate(ans, keywords)\n",
    "\n",
    "#     # f_generator = FeedbackGenerator(results)\n",
    "#     # print(f_generator.generate_feedback_message())\n",
    "#     # f_generator.spider_graph_generator()\n",
    "\n",
    "# print(results)\n",
    "# to_fb_generator = {\"technical\":np.mean(list(results.values())) , \"social\":np.random.random() , \"personal\":np.random.random()}\n",
    "# print(to_fb_generator)\n",
    "\n",
    "# f_generator = FeedbackGenerator(to_fb_generator)\n",
    "# print(f_generator.generate_feedback_message())\n",
    "# f_generator.spider_graph_generator()"
   ]
  },
  {
   "cell_type": "markdown",
   "id": "c3e9d854",
   "metadata": {},
   "source": []
  },
  {
   "cell_type": "markdown",
   "id": "b336a943",
   "metadata": {},
   "source": [
    "# Integration Test"
   ]
  },
  {
   "cell_type": "code",
   "execution_count": 9,
   "id": "89b558c1",
   "metadata": {},
   "outputs": [
    {
     "name": "stdout",
     "output_type": "stream",
     "text": [
      "Scores for each question ...  \n",
      "{'Q1': 1, 'Q2': 1, 'Q3': 1, 'Q4': 0, 'Q5': 1}\n",
      "{'technical': 0.8, 'personal': 0.9846542610829965, 'social': 0.7261115751567833}\n",
      "Thanks for completing the interview. Here's your feedback:\n",
      "Your proficiency in handling complex technical challenges was remarkable, reflecting your strong foundation in the subject matter.\n",
      "Your excellent presentation skills and ability to communicate ideas effectively were evident throughout the interview.\n",
      "\n",
      "While your social skills are decent, there is room for improvement in terms of fostering stronger connections and collaboration.\n",
      "\n",
      "\n"
     ]
    },
    {
     "data": {
      "image/png": "[encoded data removed]",
      "text/plain": [
       "<Figure size 400x400 with 1 Axes>"
      ]
     },
     "metadata": {},
     "output_type": "display_data"
    }
   ],
   "source": [
    "nlp_class_module = NLP_MODULE(\"audio samples/interviewee_answer\" , \"questions.json\")\n",
    "nlp_class_module.prepare_data()\n",
    "nlp_class_module.generate_results()\n",
    "nlp_class_module.export_results_to_json()"
   ]
  },
  {
   "cell_type": "markdown",
   "id": "a3834fdf",
   "metadata": {},
   "source": []
  }
 ],
 "metadata": {
  "kernelspec": {
   "display_name": "Python 3 (ipykernel)",
   "language": "python",
   "name": "python3"
  },
  "language_info": {
   "codemirror_mode": {
    "name": "ipython",
    "version": 3
   },
   "file_extension": ".py",
   "mimetype": "text/x-python",
   "name": "python",
   "nbconvert_exporter": "python",
   "pygments_lexer": "ipython3",
   "version": "3.10.12"
  }
 },
 "nbformat": 4,
 "nbformat_minor": 5
}
