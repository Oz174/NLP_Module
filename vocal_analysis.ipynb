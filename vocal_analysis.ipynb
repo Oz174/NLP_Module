{
 "cells": [
  {
   "cell_type": "markdown",
   "metadata": {},
   "source": [
    "## Trial 1 : Feature Engineering in audio files (chatGPT)"
   ]
  },
  {
   "cell_type": "code",
   "execution_count": null,
   "metadata": {},
   "outputs": [],
   "source": [
    "import librosa\n",
    "import numpy as np\n",
    "from sklearn.model_selection import train_test_split\n",
    "from sklearn.ensemble import RandomForestClassifier\n",
    "from sklearn.metrics import accuracy_score\n",
    "\n",
    "# Function to extract energy and pitch features from audio file\n",
    "def extract_features(audio_file):\n",
    "    y, sr = librosa.load(audio_file)\n",
    "    \n",
    "    # Extract energy feature\n",
    "    energy = np.mean(librosa.feature.rms(y=y))\n",
    "    \n",
    "    # Extract pitch feature\n",
    "    pitches, magnitudes = librosa.piptrack(y=y, sr=sr)\n",
    "    pitch_mean = np.mean(pitches[pitches > 0])\n",
    "    \n",
    "    return [energy, pitch_mean]\n",
    "\n",
    "# Example usage: Extract features from audio files in a dataset\n",
    "def extract_features_from_dataset(audio_files):\n",
    "    features = []\n",
    "    for file in audio_files:\n",
    "        features.append(extract_features(file))\n",
    "    return np.array(features)\n",
    "\n",
    "\n"
   ]
  },
  {
   "cell_type": "code",
   "execution_count": null,
   "metadata": {},
   "outputs": [],
   "source": [
    "# Example dataset of audio files and corresponding labels\n",
    "audio_files = ['audio1.wav', 'audio2.wav', 'audio3.wav']\n",
    "labels = ['disfluency', 'fluency', 'disfluency']\n",
    "\n",
    "# Extract features from the dataset\n",
    "X = extract_features_from_dataset(audio_files)\n",
    "\n",
    "# Convert labels to numerical format\n",
    "label_mapping = {'disfluency': 1, 'fluency': 0}\n",
    "y = np.array([label_mapping[label] for label in labels])\n",
    "\n",
    "# Split dataset into training and testing sets\n",
    "X_train, X_test, y_train, y_test = train_test_split(X, y, test_size=0.2, random_state=42)\n",
    "\n",
    "# Train a Random Forest classifier\n",
    "rf_classifier = RandomForestClassifier(n_estimators=100, random_state=42)\n",
    "rf_classifier.fit(X_train, y_train)\n",
    "\n",
    "# Predict on the test set\n",
    "y_pred = rf_classifier.predict(X_test)\n",
    "\n",
    "# Calculate accuracy\n",
    "accuracy = accuracy_score(y_test, y_pred)\n",
    "print(\"Accuracy:\", accuracy)"
   ]
  }
 ],
 "metadata": {
  "language_info": {
   "name": "python"
  }
 },
 "nbformat": 4,
 "nbformat_minor": 2
}
